{
 "cells": [
  {
   "metadata": {},
   "cell_type": "markdown",
   "source": "### Задание 4 - tf-idf transformer",
   "id": "70d1797bdf2629bc"
  },
  {
   "metadata": {
    "ExecuteTime": {
     "end_time": "2025-01-20T18:38:15.138728Z",
     "start_time": "2025-01-20T18:38:15.135841Z"
    }
   },
   "cell_type": "code",
   "source": "import math",
   "id": "d7a3219acc91ef9c",
   "outputs": [],
   "execution_count": 1
  },
  {
   "metadata": {
    "ExecuteTime": {
     "end_time": "2025-01-20T18:38:16.466549Z",
     "start_time": "2025-01-20T18:38:16.463961Z"
    }
   },
   "cell_type": "code",
   "source": [
    "def step_function(number):\n",
    "    return 1 if number >= 1 else 0"
   ],
   "id": "961b06c88cab7465",
   "outputs": [],
   "execution_count": 2
  },
  {
   "metadata": {
    "ExecuteTime": {
     "end_time": "2025-01-20T18:38:17.388790Z",
     "start_time": "2025-01-20T18:38:17.381782Z"
    }
   },
   "cell_type": "code",
   "source": [
    "class TfidfTransformer:\n",
    "\n",
    "    @staticmethod\n",
    "    def tf_transform(count_matrix):\n",
    "        word_freq = []\n",
    "        for sentence in count_matrix:\n",
    "            sentence_word_freq = []\n",
    "            sentence_word_count = sum(sentence)\n",
    "\n",
    "            for word in sentence:\n",
    "                cur_word_freq = round(word / sentence_word_count, 3)\n",
    "                sentence_word_freq.append(cur_word_freq)\n",
    "\n",
    "            word_freq.append(sentence_word_freq)\n",
    "\n",
    "        return word_freq\n",
    "\n",
    "    @staticmethod\n",
    "    def idf_transform(count_matrix):\n",
    "        doc_amount = len(count_matrix)\n",
    "\n",
    "        column_sum = []\n",
    "\n",
    "        for j in range(len(count_matrix[0])):\n",
    "            element_sum = 0\n",
    "\n",
    "            for i in range(doc_amount):\n",
    "                element_sum += step_function(count_matrix[i][j])\n",
    "\n",
    "            element_idf = round(math.log((doc_amount + 1) / (element_sum + 1)) + 1, 3)\n",
    "            column_sum.append(element_idf)\n",
    "\n",
    "        return column_sum\n",
    "\n",
    "    @staticmethod\n",
    "    def fit_transform(count_matrix):\n",
    "        # вызов через имя класса\n",
    "        tf_transform_result = TfidfTransformer.tf_transform(count_matrix)\n",
    "        idf_transform_result = TfidfTransformer.idf_transform(count_matrix)\n",
    "\n",
    "        # завожу пустой список из списков, количество которых равно количеству списков после выполнения tf_transform\n",
    "        result = [[] for _ in range(len(tf_transform_result))]\n",
    "\n",
    "        for n in range(len(tf_transform_result)):\n",
    "            every_list = tf_transform_result[n]\n",
    "            for i in range(len(every_list)):\n",
    "                result_item = round(every_list[i] * idf_transform_result[i], 3)\n",
    "                result[n].append(result_item)\n",
    "\n",
    "        return result"
   ],
   "id": "4aa37abe43fbe556",
   "outputs": [],
   "execution_count": 3
  },
  {
   "metadata": {
    "ExecuteTime": {
     "end_time": "2025-01-20T18:38:18.385018Z",
     "start_time": "2025-01-20T18:38:18.382030Z"
    }
   },
   "cell_type": "code",
   "source": [
    "count_matrix = [\n",
    "[1, 1, 2, 1, 1, 1, 0, 0, 0, 0, 0, 0],\n",
    "[0, 0, 1, 0, 0, 0, 1, 1, 1, 1, 1, 1]]"
   ],
   "id": "43493964454c4312",
   "outputs": [],
   "execution_count": 4
  },
  {
   "metadata": {
    "ExecuteTime": {
     "end_time": "2025-01-20T18:38:19.041365Z",
     "start_time": "2025-01-20T18:38:19.039193Z"
    }
   },
   "cell_type": "code",
   "source": [
    "tfidf_matrix = TfidfTransformer.fit_transform(count_matrix)\n",
    "print(tfidf_matrix)"
   ],
   "id": "8ede6be7794595ff",
   "outputs": [
    {
     "name": "stdout",
     "output_type": "stream",
     "text": [
      "[[0.201, 0.201, 0.286, 0.201, 0.201, 0.201, 0.0, 0.0, 0.0, 0.0, 0.0, 0.0], [0.0, 0.0, 0.143, 0.0, 0.0, 0.0, 0.201, 0.201, 0.201, 0.201, 0.201, 0.201]]\n"
     ]
    }
   ],
   "execution_count": 5
  }
 ],
 "metadata": {
  "kernelspec": {
   "display_name": "Python 3",
   "language": "python",
   "name": "python3"
  },
  "language_info": {
   "codemirror_mode": {
    "name": "ipython",
    "version": 2
   },
   "file_extension": ".py",
   "mimetype": "text/x-python",
   "name": "python",
   "nbconvert_exporter": "python",
   "pygments_lexer": "ipython2",
   "version": "2.7.6"
  }
 },
 "nbformat": 4,
 "nbformat_minor": 5
}
