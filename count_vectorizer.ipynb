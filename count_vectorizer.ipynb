{
 "cells": [
  {
   "metadata": {},
   "cell_type": "markdown",
   "source": "## TF - IDF",
   "id": "5ca3a86d45616823"
  },
  {
   "metadata": {
    "ExecuteTime": {
     "end_time": "2025-01-20T18:38:59.223047Z",
     "start_time": "2025-01-20T18:38:59.220123Z"
    }
   },
   "cell_type": "code",
   "source": "import math",
   "id": "426bb7d880fa34bd",
   "outputs": [],
   "execution_count": 15
  },
  {
   "metadata": {},
   "cell_type": "markdown",
   "source": "### Задание 1 - count vectorizer",
   "id": "9ee773773e77735b"
  },
  {
   "metadata": {
    "ExecuteTime": {
     "end_time": "2025-01-20T18:38:34.803752Z",
     "start_time": "2025-01-20T18:38:34.797774Z"
    }
   },
   "cell_type": "code",
   "source": [
    "class CountVectorizer:\n",
    "    def __init__(self, word_count=None):\n",
    "        self.word_count = word_count\n",
    "\n",
    "    def fit(self, corpus):\n",
    "        self.word_count = {}\n",
    "\n",
    "        for sentence in corpus:\n",
    "            # чтобы на регистр не обращать внимания\n",
    "            sentence = sentence.lower()\n",
    "\n",
    "            # делим предложения на слова по пробелам\n",
    "            sentence = sentence.split(' ')\n",
    "\n",
    "            for word in sentence:\n",
    "                # считаем кол-во повторений слов\n",
    "                self.word_count[word] = self.word_count.get(word, 0) + 1\n",
    "\n",
    "        return self.word_count\n",
    "\n",
    "    def transform(self, corpus):\n",
    "        count_matrix = []\n",
    "\n",
    "        for sentence in corpus:\n",
    "            word_list = self.get_feature_names()\n",
    "\n",
    "            sentence_word_count = {}\n",
    "            # чтобы на регистр не обращать внимания\n",
    "            sentence = sentence.lower()\n",
    "\n",
    "            # делим предложения на слова по пробелам\n",
    "            sentence = sentence.split(' ')\n",
    "\n",
    "            for word in sentence:\n",
    "                # считаем кол-во повторений слов в конкретном предложении\n",
    "                sentence_word_count[word] = sentence_word_count.get(word, 0) + 1\n",
    "\n",
    "            word_count_sentence = []\n",
    "            for word in word_list:\n",
    "                current_word_count = sentence_word_count.get(word, 0)\n",
    "\n",
    "                word_count_sentence.append(current_word_count)\n",
    "\n",
    "            count_matrix.append(word_count_sentence)\n",
    "\n",
    "        return count_matrix\n",
    "\n",
    "    def get_feature_names(self):\n",
    "        word_order = list(self.word_count.keys())\n",
    "\n",
    "        return word_order\n",
    "\n",
    "    def fit_transform(self, corpus):\n",
    "        self.fit(corpus)\n",
    "\n",
    "        return self.transform(corpus)"
   ],
   "id": "9174d8e10707b15a",
   "outputs": [],
   "execution_count": 3
  },
  {
   "metadata": {
    "ExecuteTime": {
     "end_time": "2025-01-20T18:38:35.465709Z",
     "start_time": "2025-01-20T18:38:35.463136Z"
    }
   },
   "cell_type": "code",
   "source": "vectorizer = CountVectorizer()",
   "id": "98800913934a1d4a",
   "outputs": [],
   "execution_count": 4
  },
  {
   "metadata": {
    "ExecuteTime": {
     "end_time": "2025-01-20T18:38:35.951017Z",
     "start_time": "2025-01-20T18:38:35.948579Z"
    }
   },
   "cell_type": "code",
   "source": [
    "corpus = [\n",
    "    'Crock Pot Pasta Never boil pasta again',\n",
    "    'Pasta Pomodoro Fresh ingredients Parmesan to taste'\n",
    "]"
   ],
   "id": "aafaf7ede480051c",
   "outputs": [],
   "execution_count": 5
  },
  {
   "metadata": {
    "ExecuteTime": {
     "end_time": "2025-01-20T18:38:36.454565Z",
     "start_time": "2025-01-20T18:38:36.452364Z"
    }
   },
   "cell_type": "code",
   "source": [
    "count_matrix = vectorizer.fit_transform(corpus)\n",
    "print(count_matrix)"
   ],
   "id": "98de842f40f31181",
   "outputs": [
    {
     "name": "stdout",
     "output_type": "stream",
     "text": [
      "[[1, 1, 2, 1, 1, 1, 0, 0, 0, 0, 0, 0], [0, 0, 1, 0, 0, 0, 1, 1, 1, 1, 1, 1]]\n"
     ]
    }
   ],
   "execution_count": 6
  },
  {
   "metadata": {
    "ExecuteTime": {
     "end_time": "2025-01-20T18:38:38.224494Z",
     "start_time": "2025-01-20T18:38:38.221250Z"
    }
   },
   "cell_type": "code",
   "source": "print(vectorizer.get_feature_names())",
   "id": "12cdc7af245e67b2",
   "outputs": [
    {
     "name": "stdout",
     "output_type": "stream",
     "text": [
      "['crock', 'pot', 'pasta', 'never', 'boil', 'again', 'pomodoro', 'fresh', 'ingredients', 'parmesan', 'to', 'taste']\n"
     ]
    }
   ],
   "execution_count": 7
  },
  {
   "metadata": {},
   "cell_type": "markdown",
   "source": "### Задание 2 - term frequency",
   "id": "1dcbdd363a2b3624"
  },
  {
   "metadata": {
    "ExecuteTime": {
     "end_time": "2025-01-20T18:38:43.789955Z",
     "start_time": "2025-01-20T18:38:43.785982Z"
    }
   },
   "cell_type": "code",
   "source": [
    "def tf_transform(count_matrix):\n",
    "    word_freq = []\n",
    "    for sentence in count_matrix:\n",
    "        sentence_word_freq = []\n",
    "        sentence_word_count = sum(sentence)\n",
    "\n",
    "        for word in sentence:\n",
    "            cur_word_freq = round(word / sentence_word_count, 3)\n",
    "\n",
    "            sentence_word_freq.append(cur_word_freq)\n",
    "\n",
    "        word_freq.append(sentence_word_freq)\n",
    "\n",
    "    return word_freq"
   ],
   "id": "9074d6f5a58f3fac",
   "outputs": [],
   "execution_count": 9
  },
  {
   "metadata": {
    "ExecuteTime": {
     "end_time": "2025-01-20T18:38:44.344403Z",
     "start_time": "2025-01-20T18:38:44.341055Z"
    }
   },
   "cell_type": "code",
   "source": [
    "count_matrix = [\n",
    "    [1, 1, 2, 1, 1, 1, 0, 0, 0, 0, 0, 0],\n",
    "    [0, 0, 1, 0, 0, 0, 1, 1, 1, 1, 1, 1]\n",
    "]"
   ],
   "id": "bfe51e314c3f5bd",
   "outputs": [],
   "execution_count": 10
  },
  {
   "metadata": {
    "ExecuteTime": {
     "end_time": "2025-01-20T18:38:44.844485Z",
     "start_time": "2025-01-20T18:38:44.842779Z"
    }
   },
   "cell_type": "code",
   "source": [
    "tf_matrix = tf_transform(count_matrix)\n",
    "print(tf_matrix)"
   ],
   "id": "488068c7fb761192",
   "outputs": [
    {
     "name": "stdout",
     "output_type": "stream",
     "text": [
      "[[0.143, 0.143, 0.286, 0.143, 0.143, 0.143, 0.0, 0.0, 0.0, 0.0, 0.0, 0.0], [0.0, 0.0, 0.143, 0.0, 0.0, 0.0, 0.143, 0.143, 0.143, 0.143, 0.143, 0.143]]\n"
     ]
    }
   ],
   "execution_count": 11
  },
  {
   "metadata": {},
   "cell_type": "markdown",
   "source": "### Задание 3 - inverse document-frequency",
   "id": "6d80d31c426ec842"
  },
  {
   "metadata": {
    "ExecuteTime": {
     "end_time": "2025-01-20T18:38:48.206324Z",
     "start_time": "2025-01-20T18:38:48.204032Z"
    }
   },
   "cell_type": "code",
   "source": [
    "def step_function(number):\n",
    "    return 1 if number >= 1 else 0\n",
    "\n",
    "def idf_transform(count_matrix):\n",
    "    doc_amount = len(count_matrix)\n",
    "\n",
    "    column_sum = []\n",
    "\n",
    "    for j in range(len(count_matrix[0])):\n",
    "        element_sum = 0\n",
    "\n",
    "        for i in range(doc_amount):\n",
    "            element_sum += step_function(count_matrix[i][j])\n",
    "\n",
    "        element_idf = round(math.log( (doc_amount + 1) / (element_sum + 1))+ 1, 3)\n",
    "        column_sum.append(element_idf)\n",
    "\n",
    "    return column_sum"
   ],
   "id": "6382cfe603d69ab7",
   "outputs": [],
   "execution_count": 12
  },
  {
   "metadata": {
    "ExecuteTime": {
     "end_time": "2025-01-20T18:38:48.770679Z",
     "start_time": "2025-01-20T18:38:48.767241Z"
    }
   },
   "cell_type": "code",
   "source": [
    "count_matrix = [\n",
    "    [1, 1, 2, 1, 1, 1, 0, 0, 0, 0, 0, 0],\n",
    "    [0, 0, 1, 0, 0, 0, 1, 1, 1, 1, 1, 1]\n",
    "]"
   ],
   "id": "c39dcc23f39aa3ce",
   "outputs": [],
   "execution_count": 13
  },
  {
   "metadata": {
    "ExecuteTime": {
     "end_time": "2025-01-20T18:39:01.954926Z",
     "start_time": "2025-01-20T18:39:01.951716Z"
    }
   },
   "cell_type": "code",
   "source": [
    "idf_matrix = idf_transform(count_matrix)\n",
    "print(idf_matrix)"
   ],
   "id": "aeec944f3824ee9d",
   "outputs": [
    {
     "name": "stdout",
     "output_type": "stream",
     "text": [
      "[1.405, 1.405, 1.0, 1.405, 1.405, 1.405, 1.405, 1.405, 1.405, 1.405, 1.405, 1.405]\n"
     ]
    }
   ],
   "execution_count": 16
  }
 ],
 "metadata": {
  "kernelspec": {
   "display_name": "Python 3",
   "language": "python",
   "name": "python3"
  },
  "language_info": {
   "codemirror_mode": {
    "name": "ipython",
    "version": 2
   },
   "file_extension": ".py",
   "mimetype": "text/x-python",
   "name": "python",
   "nbconvert_exporter": "python",
   "pygments_lexer": "ipython2",
   "version": "2.7.6"
  }
 },
 "nbformat": 4,
 "nbformat_minor": 5
}
