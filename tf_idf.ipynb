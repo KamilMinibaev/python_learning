{
 "cells": [
  {
   "metadata": {},
   "cell_type": "markdown",
   "source": "## TF - IDF",
   "id": "5ca3a86d45616823"
  },
  {
   "metadata": {},
   "cell_type": "markdown",
   "source": "### Задание 1 - count vectorizer",
   "id": "9ee773773e77735b"
  },
  {
   "metadata": {
    "ExecuteTime": {
     "end_time": "2024-12-11T21:53:25.324134Z",
     "start_time": "2024-12-11T21:53:25.319223Z"
    }
   },
   "cell_type": "code",
   "source": [
    "class CountVectorizer:\n",
    "    def __init__(self, word_count=None):\n",
    "        self.word_count = word_count\n",
    "\n",
    "    def fit(self, corpus):\n",
    "        self.word_count = {}\n",
    "\n",
    "        for sentence in corpus:\n",
    "            # чтобы на регистр не обращать внимания\n",
    "            sentence = sentence.lower()\n",
    "\n",
    "            # делим предложения на слова по пробелам\n",
    "            sentence = sentence.split(' ')\n",
    "\n",
    "            for word in sentence:\n",
    "                # считаем кол-во повторений слов\n",
    "                self.word_count[word] = self.word_count.get(word, 0) + 1\n",
    "\n",
    "        return self.word_count\n",
    "\n",
    "    def get_feature_names(self):\n",
    "        word_order = list(self.word_count.keys())\n",
    "\n",
    "        return word_order\n",
    "\n",
    "    def transform(self, corpus):\n",
    "        count_matrix = []\n",
    "\n",
    "        for sentence in corpus:\n",
    "            word_list = self.get_feature_names()\n",
    "\n",
    "            sentence_word_count = {}\n",
    "            # чтобы на регистр не обращать внимания\n",
    "            sentence = sentence.lower()\n",
    "\n",
    "            # делим предложения на слова по пробелам\n",
    "            sentence = sentence.split(' ')\n",
    "\n",
    "            for word in sentence:\n",
    "                # считаем кол-во повторений слов в конкретном предложении\n",
    "                sentence_word_count[word] = sentence_word_count.get(word, 0) + 1\n",
    "\n",
    "            for word in word_list:\n",
    "                current_word_count = sentence_word_count.get(word, 0)\n",
    "                word_list = list(map(lambda x: x.replace(word, str(current_word_count)), word_list))\n",
    "\n",
    "            count_matrix.append(word_list)\n",
    "\n",
    "        return count_matrix\n",
    "\n",
    "    def fit_transform(self, corpus):\n",
    "        self.fit(corpus)\n",
    "\n",
    "        return self.transform(corpus)"
   ],
   "id": "9174d8e10707b15a",
   "outputs": [],
   "execution_count": 1
  },
  {
   "metadata": {
    "ExecuteTime": {
     "end_time": "2024-12-11T21:53:26.307178Z",
     "start_time": "2024-12-11T21:53:26.305289Z"
    }
   },
   "cell_type": "code",
   "source": "vectorizer = CountVectorizer()",
   "id": "98800913934a1d4a",
   "outputs": [],
   "execution_count": 2
  },
  {
   "metadata": {
    "ExecuteTime": {
     "end_time": "2024-12-11T21:53:26.884566Z",
     "start_time": "2024-12-11T21:53:26.882892Z"
    }
   },
   "cell_type": "code",
   "source": [
    "corpus = [\n",
    "    'Crock Pot Pasta Never boil pasta again',\n",
    "    'Pasta Pomodoro Fresh ingredients Parmesan to taste'\n",
    "]"
   ],
   "id": "aafaf7ede480051c",
   "outputs": [],
   "execution_count": 3
  },
  {
   "metadata": {
    "ExecuteTime": {
     "end_time": "2024-12-11T21:53:27.354620Z",
     "start_time": "2024-12-11T21:53:27.351151Z"
    }
   },
   "cell_type": "code",
   "source": [
    "count_matrix = vectorizer.fit_transform(corpus)\n",
    "count_matrix"
   ],
   "id": "98de842f40f31181",
   "outputs": [
    {
     "data": {
      "text/plain": [
       "[['1', '1', '2', '1', '1', '1', '0', '0', '0', '0', '0', '0'],\n",
       " ['0', '0', '1', '0', '0', '0', '1', '1', '1', '1', '1', '1']]"
      ]
     },
     "execution_count": 4,
     "metadata": {},
     "output_type": "execute_result"
    }
   ],
   "execution_count": 4
  },
  {
   "metadata": {
    "ExecuteTime": {
     "end_time": "2024-12-11T21:53:28.975296Z",
     "start_time": "2024-12-11T21:53:28.973140Z"
    }
   },
   "cell_type": "code",
   "source": "print(vectorizer.get_feature_names())",
   "id": "12cdc7af245e67b2",
   "outputs": [
    {
     "name": "stdout",
     "output_type": "stream",
     "text": [
      "['crock', 'pot', 'pasta', 'never', 'boil', 'again', 'pomodoro', 'fresh', 'ingredients', 'parmesan', 'to', 'taste']\n"
     ]
    }
   ],
   "execution_count": 5
  },
  {
   "metadata": {},
   "cell_type": "markdown",
   "source": "### Задание 2 - term frequency",
   "id": "1dcbdd363a2b3624"
  },
  {
   "metadata": {
    "ExecuteTime": {
     "end_time": "2024-12-12T08:28:37.606811Z",
     "start_time": "2024-12-12T08:28:37.602667Z"
    }
   },
   "cell_type": "code",
   "source": [
    "def tf_transform(count_matrix):\n",
    "    word_freq = []\n",
    "    for sentence in count_matrix:\n",
    "        sentence_word_freq = []\n",
    "        sentence_word_count = sum(sentence)\n",
    "\n",
    "        for word in sentence:\n",
    "            cur_word_freq = round(word / sentence_word_count, 3)\n",
    "\n",
    "            sentence_word_freq.append(cur_word_freq)\n",
    "\n",
    "        word_freq.append(sentence_word_freq)\n",
    "\n",
    "    return word_freq"
   ],
   "id": "9074d6f5a58f3fac",
   "outputs": [],
   "execution_count": 49
  },
  {
   "metadata": {
    "ExecuteTime": {
     "end_time": "2024-12-12T08:28:38.157432Z",
     "start_time": "2024-12-12T08:28:38.155084Z"
    }
   },
   "cell_type": "code",
   "source": [
    "count_matrix = [\n",
    "    [1, 1, 2, 1, 1, 1, 0, 0, 0, 0, 0, 0],\n",
    "    [0, 0, 1, 0, 0, 0, 1, 1, 1, 1, 1, 1]\n",
    "]"
   ],
   "id": "bfe51e314c3f5bd",
   "outputs": [],
   "execution_count": 50
  },
  {
   "metadata": {
    "ExecuteTime": {
     "end_time": "2024-12-12T08:28:49.979537Z",
     "start_time": "2024-12-12T08:28:49.977151Z"
    }
   },
   "cell_type": "code",
   "source": [
    "tf_matrix = tf_transform(count_matrix)\n",
    "print(tf_matrix)"
   ],
   "id": "488068c7fb761192",
   "outputs": [
    {
     "name": "stdout",
     "output_type": "stream",
     "text": [
      "[[0.143, 0.143, 0.286, 0.143, 0.143, 0.143, 0.0, 0.0, 0.0, 0.0, 0.0, 0.0], [0.0, 0.0, 0.143, 0.0, 0.0, 0.0, 0.143, 0.143, 0.143, 0.143, 0.143, 0.143]]\n"
     ]
    }
   ],
   "execution_count": 52
  }
 ],
 "metadata": {
  "kernelspec": {
   "display_name": "Python 3",
   "language": "python",
   "name": "python3"
  },
  "language_info": {
   "codemirror_mode": {
    "name": "ipython",
    "version": 2
   },
   "file_extension": ".py",
   "mimetype": "text/x-python",
   "name": "python",
   "nbconvert_exporter": "python",
   "pygments_lexer": "ipython2",
   "version": "2.7.6"
  }
 },
 "nbformat": 4,
 "nbformat_minor": 5
}
